{
 "cells": [
  {
   "cell_type": "markdown",
   "metadata": {},
   "source": [
    "From discussion:\n",
    "- Data collection\n",
    "    * building trainging sets\n",
    "- smali code -> graphs\n",
    "    * extract nodes / edges\n",
    "    * feed into networkx\n",
    "    * build matrix\n",
    "- build a table of features from graph"
   ]
  },
  {
   "cell_type": "code",
   "execution_count": 10,
   "metadata": {},
   "outputs": [],
   "source": [
    "import pandas as pd\n",
    "import numpy as np\n",
    "import glob\n",
    "import re\n",
    "import networkx as nx\n",
    "from collections import defaultdict\n",
    "import itertools\n",
    "import matplotlib.pyplot as plt"
   ]
  },
  {
   "cell_type": "code",
   "execution_count": 19,
   "metadata": {},
   "outputs": [],
   "source": [
    "%load_ext autoreload\n",
    "%autoreload 2\n",
    "import collection as c"
   ]
  },
  {
   "cell_type": "code",
   "execution_count": 23,
   "metadata": {},
   "outputs": [],
   "source": [
    "# get all filenames with .smali using glob recursive=True\n",
    "smali = c.get_smali('./smali')\n",
    "test = smali[:100]"
   ]
  },
  {
   "cell_type": "code",
   "execution_count": null,
   "metadata": {},
   "outputs": [],
   "source": [
    "def create_i(line):\n",
    "    if('invoke-' in line and 'method' not in line):\n",
    "        api_call = re.search('L.+', line).group(0)[1:]\n",
    "        calls.append(api_call)\n",
    "#             print('api call: ', api_call)\n",
    "        invoke = re.search('-\\w{5,9}', line).group(0)[1:]\n",
    "#             package = re.search('L.+-', line).group(0)[1:-2]\n",
    "        invokeD[invoke].append(api_call)\n",
    "#         except:\n",
    "#             print('line', line)\n",
    "#             print(re.search('L.+', line).group(0)[1:])\n",
    "#             print('invoke: ' ,re.search('-\\w{5,7}', line).group(0)[1:])\n",
    "#             print(re.search('L.+-', line).group(0)[1:-2])\n",
    "            \n",
    "    else: return"
   ]
  },
  {
   "cell_type": "code",
   "execution_count": null,
   "metadata": {
    "scrolled": true
   },
   "outputs": [],
   "source": [
    "I = nx.Graph()\n",
    "calls = list()\n",
    "invokeD = {'direct': [], 'virtual':[], 'static':[], 'super':[],'interface':[]}\n",
    "packageD = defaultdict(list)\n",
    "\n",
    "for file in smali:\n",
    "    with open(file) as f:\n",
    "        for line in f:\n",
    "            create_i(line)\n",
    "        \n",
    "# #             print('invoke: ', invoke)\n",
    "#             if(package):\n",
    "# #                 package = package.group(0)[1:-3]\n",
    "# #                 print('package: ', package)\n",
    "#                 method = re.search('>.+\\(', line).group(0)[1:-1]\n",
    "#                 packageD[package].append(method)\n",
    "# #                 print('method: ', method)"
   ]
  },
  {
   "cell_type": "code",
   "execution_count": null,
   "metadata": {},
   "outputs": [],
   "source": [
    "I.add_nodes_from(calls)\n",
    "I.add_edges_from([i for i in itertools.combinations(invokeD['direct'], 2)])\n",
    "I.add_edges_from([i for i in itertools.combinations(invokeD['virtual'], 2)])\n",
    "I.add_edges_from([i for i in itertools.combinations(invokeD['static'], 2)])\n",
    "# pos=nx.spring_layout(I)\n",
    "nx.draw(I, node_size=60)"
   ]
  },
  {
   "cell_type": "code",
   "execution_count": null,
   "metadata": {},
   "outputs": [],
   "source": [
    "def locate_method_blocks(text):\n",
    "    count = 0\n",
    "    append = False\n",
    "    for line in text:\n",
    "        if('.method' in line): append = True\n",
    "        if('.end method' in line): \n",
    "            blocks[count].append(line)\n",
    "            append = False\n",
    "            count += 1\n",
    "        if(append):\n",
    "            blocks[count].append(line)\n",
    "            \n",
    "def find_api_calls(iterable, var):\n",
    "    for i in iterable:\n",
    "        if('invoke-' in i and 'method' not in i):\n",
    "            api_call = re.search('L.+', i).group(0)[1:]\n",
    "            var.append(api_call)\n",
    "\n",
    "def create_edges(dic, graph):\n",
    "    for key in dic:\n",
    "        edges = [i for i in itertools.combinations(dic[key], 2)]\n",
    "        graph.add_edges_from(edges)"
   ]
  },
  {
   "cell_type": "code",
   "execution_count": null,
   "metadata": {},
   "outputs": [],
   "source": [
    "calls = list()\n",
    "B = nx.Graph()\n",
    "\n",
    "for f in smali:\n",
    "    blocks = defaultdict(list)\n",
    "    same_block = defaultdict(list)\n",
    "    with open(f) as file:\n",
    "        locate_method_blocks(file)\n",
    "        file.seek(0)\n",
    "        find_api_calls(file, calls)\n",
    "        for b in blocks:\n",
    "            apis = []\n",
    "            find_api_calls(blocks[b], apis)\n",
    "            same_block[b] = apis\n",
    "        create_edges(same_block, B)\n"
   ]
  },
  {
   "cell_type": "code",
   "execution_count": null,
   "metadata": {},
   "outputs": [],
   "source": [
    "B.add_nodes_from(calls)"
   ]
  },
  {
   "cell_type": "code",
   "execution_count": null,
   "metadata": {},
   "outputs": [],
   "source": [
    "nx.adjacency_matrix(B)"
   ]
  },
  {
   "cell_type": "code",
   "execution_count": null,
   "metadata": {},
   "outputs": [],
   "source": [
    "plt.figure(figsize=(30,50)) \n",
    "nx.draw(B, node_size=50)"
   ]
  },
  {
   "cell_type": "code",
   "execution_count": null,
   "metadata": {},
   "outputs": [],
   "source": []
  }
 ],
 "metadata": {
  "kernelspec": {
   "display_name": "Python 3",
   "language": "python",
   "name": "python3"
  },
  "language_info": {
   "codemirror_mode": {
    "name": "ipython",
    "version": 3
   },
   "file_extension": ".py",
   "mimetype": "text/x-python",
   "name": "python",
   "nbconvert_exporter": "python",
   "pygments_lexer": "ipython3",
   "version": "3.7.5"
  }
 },
 "nbformat": 4,
 "nbformat_minor": 2
}
