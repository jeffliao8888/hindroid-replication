{
 "cells": [
  {
   "cell_type": "code",
   "execution_count": 1,
   "metadata": {},
   "outputs": [],
   "source": [
    "import os,sys,inspect\n",
    "currentdir = os.path.dirname(os.path.abspath(inspect.getfile(inspect.currentframe())))\n",
    "parentdir = os.path.dirname(currentdir)\n",
    "sys.path.insert(0,parentdir) "
   ]
  },
  {
   "cell_type": "code",
   "execution_count": 2,
   "metadata": {},
   "outputs": [],
   "source": [
    "import pandas as pd\n",
    "import numpy as np"
   ]
  },
  {
   "cell_type": "code",
   "execution_count": 3,
   "metadata": {},
   "outputs": [],
   "source": [
    "%load_ext autoreload\n",
    "%autoreload 2"
   ]
  },
  {
   "cell_type": "code",
   "execution_count": 4,
   "metadata": {
    "scrolled": false
   },
   "outputs": [],
   "source": [
    "import json\n",
    "import networkx as nx\n",
    "import src.build_graph as bg"
   ]
  },
  {
   "cell_type": "code",
   "execution_count": 11,
   "metadata": {},
   "outputs": [],
   "source": [
    "import logging\n",
    "logger = logging.getLogger('debug')\n",
    "hdlr = logging.FileHandler('/home/zjliao/dsc180a/debug.log')\n",
    "formatter = logging.Formatter('%(asctime)s %(levelname)s %(message)s')\n",
    "hdlr.setFormatter(formatter)\n",
    "logger.addHandler(hdlr) \n",
    "logger.setLevel(logging.DEBUG)"
   ]
  },
  {
   "cell_type": "code",
   "execution_count": 12,
   "metadata": {},
   "outputs": [
    {
     "data": {
      "text/plain": [
       "'/home/zjliao/dsc180a/notebooks'"
      ]
     },
     "execution_count": 12,
     "metadata": {},
     "output_type": "execute_result"
    }
   ],
   "source": [
    "pwd"
   ]
  },
  {
   "cell_type": "code",
   "execution_count": 13,
   "metadata": {},
   "outputs": [],
   "source": [
    "logger.debug('testing')"
   ]
  },
  {
   "cell_type": "code",
   "execution_count": 5,
   "metadata": {},
   "outputs": [],
   "source": [
    "ENV = json.load(open('/home/zjliao/dsc180a/config/env.json'))"
   ]
  },
  {
   "cell_type": "code",
   "execution_count": 6,
   "metadata": {
    "scrolled": false
   },
   "outputs": [
    {
     "name": "stdout",
     "output_type": "stream",
     "text": [
      "get info\n",
      "check malware\n",
      "5550\n",
      "Build A\n",
      "extract smali\n",
      "build adjacency matrix\n"
     ]
    }
   ],
   "source": [
    "cfg = json.load(open('/home/zjliao/dsc180a/config/test-params.json'))\n",
    "malware = bg.malware_detection(**cfg)\n",
    "A, apis, apks = malware.buildA_matrix()"
   ]
  },
  {
   "cell_type": "code",
   "execution_count": 8,
   "metadata": {
    "scrolled": true
   },
   "outputs": [
    {
     "data": {
      "text/plain": [
       "0                              java/lang/Object;-><init>()V\n",
       "1          veg/mediaplayer/sdk/MediaPlayer;->clearLayout()V\n",
       "2         android/widget/FrameLayout$LayoutParams;-><ini...\n",
       "3         java/lang/Integer;->valueOf(I)Ljava/lang/Integer;\n",
       "4                java/util/Queue;->add(Ljava/lang/Object;)Z\n",
       "                                ...                        \n",
       "104072                          net/youmi/android/ct;->c()V\n",
       "104073    net/youmi/android/bf;-><init>(Lnet/youmi/andro...\n",
       "104074    net/youmi/android/cu;-><init>(Lnet/youmi/andro...\n",
       "104075                          net/youmi/android/au;->c()I\n",
       "104076                          net/youmi/android/ct;->b()V\n",
       "Length: 104077, dtype: object"
      ]
     },
     "execution_count": 8,
     "metadata": {},
     "output_type": "execute_result"
    }
   ],
   "source": [
    "apis"
   ]
  },
  {
   "cell_type": "code",
   "execution_count": 9,
   "metadata": {},
   "outputs": [
    {
     "data": {
      "text/plain": [
       "matrix([[1, 1, 1, ..., 0, 0, 0],\n",
       "        [1, 0, 1, ..., 0, 0, 0],\n",
       "        [1, 0, 1, ..., 0, 0, 0],\n",
       "        ...,\n",
       "        [1, 0, 0, ..., 0, 0, 0],\n",
       "        [1, 0, 1, ..., 0, 0, 0],\n",
       "        [1, 0, 1, ..., 1, 1, 1]])"
      ]
     },
     "execution_count": 9,
     "metadata": {},
     "output_type": "execute_result"
    }
   ],
   "source": [
    "A"
   ]
  },
  {
   "cell_type": "code",
   "execution_count": 10,
   "metadata": {
    "scrolled": false
   },
   "outputs": [
    {
     "name": "stdout",
     "output_type": "stream",
     "text": [
      "Build B\n",
      "create B graph\n"
     ]
    }
   ],
   "source": [
    "B = nx.adjacency_matrix(malware.build_B(), apis)"
   ]
  },
  {
   "cell_type": "code",
   "execution_count": 11,
   "metadata": {
    "scrolled": true
   },
   "outputs": [
    {
     "data": {
      "text/plain": [
       "<104077x104077 sparse matrix of type '<class 'numpy.int64'>'\n",
       "\twith 2317188 stored elements in Compressed Sparse Row format>"
      ]
     },
     "execution_count": 11,
     "metadata": {},
     "output_type": "execute_result"
    }
   ],
   "source": [
    "B"
   ]
  },
  {
   "cell_type": "code",
   "execution_count": 12,
   "metadata": {
    "scrolled": false
   },
   "outputs": [
    {
     "name": "stdout",
     "output_type": "stream",
     "text": [
      "Build P\n",
      "create P graph\n"
     ]
    }
   ],
   "source": [
    "P = nx.adjacency_matrix(malware.build_P(), apis)"
   ]
  },
  {
   "cell_type": "code",
   "execution_count": 13,
   "metadata": {
    "scrolled": false
   },
   "outputs": [
    {
     "data": {
      "text/plain": [
       "<104077x104077 sparse matrix of type '<class 'numpy.int64'>'\n",
       "\twith 1410229 stored elements in Compressed Sparse Row format>"
      ]
     },
     "execution_count": 13,
     "metadata": {},
     "output_type": "execute_result"
    }
   ],
   "source": [
    "P"
   ]
  },
  {
   "cell_type": "code",
   "execution_count": 14,
   "metadata": {
    "scrolled": true
   },
   "outputs": [
    {
     "data": {
      "text/plain": [
       "matrix([[30283, 11091, 11958, 13190,     1,   119,   820,   137,   644,\n",
       "           565],\n",
       "        [11091, 27927, 11076, 11284,     1,   112,   674,   125,   593,\n",
       "           510],\n",
       "        [11958, 11076, 32874, 12366,     1,   116,   859,   133,   561,\n",
       "           487],\n",
       "        [13190, 11284, 12366, 46458,     1,   118,  1010,   136,   682,\n",
       "           580],\n",
       "        [    1,     1,     1,     1,     1,     1,     1,     1,     1,\n",
       "             1],\n",
       "        [  119,   112,   116,   118,     1,   302,    91,   115,    83,\n",
       "            74],\n",
       "        [  820,   674,   859,  1010,     1,    91,  5608,   105,   398,\n",
       "           328],\n",
       "        [  137,   125,   133,   136,     1,   115,   105,   357,    94,\n",
       "            75],\n",
       "        [  644,   593,   561,   682,     1,    83,   398,    94,  2573,\n",
       "           800],\n",
       "        [  565,   510,   487,   580,     1,    74,   328,    75,   800,\n",
       "          1899]])"
      ]
     },
     "execution_count": 14,
     "metadata": {},
     "output_type": "execute_result"
    }
   ],
   "source": [
    "A*A.T"
   ]
  },
  {
   "cell_type": "code",
   "execution_count": null,
   "metadata": {
    "scrolled": false
   },
   "outputs": [],
   "source": [
    "A*B*A.T"
   ]
  },
  {
   "cell_type": "code",
   "execution_count": null,
   "metadata": {
    "scrolled": false
   },
   "outputs": [],
   "source": [
    "A*B*P*P.T*B.T*A.T"
   ]
  },
  {
   "cell_type": "code",
   "execution_count": 15,
   "metadata": {},
   "outputs": [],
   "source": [
    "from sklearn.model_selection import train_test_split\n",
    "from sklearn.svm import SVC"
   ]
  },
  {
   "cell_type": "code",
   "execution_count": 16,
   "metadata": {},
   "outputs": [],
   "source": [
    "x = A\n",
    "y = [1 if(num<5) else 0 for num in range(10)]"
   ]
  },
  {
   "cell_type": "code",
   "execution_count": 17,
   "metadata": {},
   "outputs": [],
   "source": [
    "X_train, X_test, y_train, y_test = train_test_split(x, y, test_size=0.3)"
   ]
  },
  {
   "cell_type": "code",
   "execution_count": 18,
   "metadata": {},
   "outputs": [],
   "source": [
    "def AA(a):\n",
    "    return a * a.T\n",
    "\n",
    "def ABA(a, b):\n",
    "    return a * b * a.T\n",
    "\n",
    "def APA(a, p):\n",
    "    return a * p * a.T\n",
    "\n",
    "def APBPA(a, b, p):\n",
    "    return a * p * b * p.T * a.T"
   ]
  },
  {
   "cell_type": "code",
   "execution_count": 19,
   "metadata": {
    "scrolled": true
   },
   "outputs": [],
   "source": [
    "clf = SVC(kernel = 'precomputed')\n",
    "kernel_train = AA(X_train)\n",
    "clf.fit(kernel_train, y_train)\n",
    "kernel_test = np.dot(X_test, X_train.T)\n",
    "aa = clf.score(kernel_test, y_test)"
   ]
  },
  {
   "cell_type": "code",
   "execution_count": 20,
   "metadata": {},
   "outputs": [],
   "source": [
    "# ABA\n",
    "clf = SVC(kernel = 'precomputed')\n",
    "kernel_train = ABA(X_train, B)\n",
    "clf.fit(kernel_train, y_train)\n",
    "kernel_test = X_test * B * X_train.T\n",
    "aba = clf.score(kernel_test, y_test)"
   ]
  },
  {
   "cell_type": "code",
   "execution_count": 21,
   "metadata": {},
   "outputs": [],
   "source": [
    "# APA\n",
    "clf = SVC(kernel = 'precomputed')\n",
    "kernel_train = X_train * P * X_train.T\n",
    "clf.fit(kernel_train, y_train)\n",
    "kernel_test = X_test * P * X_train.T\n",
    "apa = clf.score(kernel_test, y_test)"
   ]
  },
  {
   "cell_type": "code",
   "execution_count": 22,
   "metadata": {},
   "outputs": [],
   "source": [
    "# APBPA\n",
    "clf = SVC(kernel = 'precomputed')\n",
    "kernel_train = APBPA(X_train, B, P)\n",
    "clf.fit(kernel_train, y_train)\n",
    "kernel_test = X_test * P * B * P.T * X_train.T\n",
    "apbpa = clf.score(kernel_test, y_test)"
   ]
  },
  {
   "cell_type": "code",
   "execution_count": 55,
   "metadata": {},
   "outputs": [],
   "source": [
    "results = {\n",
    "    'aa': aa,\n",
    "    'aba': aba,\n",
    "    'apa': apa,\n",
    "    'apbpa': apbpa\n",
    "}"
   ]
  },
  {
   "cell_type": "code",
   "execution_count": 56,
   "metadata": {},
   "outputs": [],
   "source": [
    "_, outpath = ENV"
   ]
  },
  {
   "cell_type": "code",
   "execution_count": 57,
   "metadata": {},
   "outputs": [
    {
     "data": {
      "text/plain": [
       "'output-paths'"
      ]
     },
     "execution_count": 57,
     "metadata": {},
     "output_type": "execute_result"
    }
   ],
   "source": [
    "outpath"
   ]
  },
  {
   "cell_type": "code",
   "execution_count": 54,
   "metadata": {},
   "outputs": [],
   "source": [
    "res = json.dumps(results)\n",
    "outpath = ENV['output-paths']\n",
    "f = open(\"%s/results.json\"%outpath,\"w\")\n",
    "f.write(res)\n",
    "f.close()"
   ]
  },
  {
   "cell_type": "code",
   "execution_count": null,
   "metadata": {},
   "outputs": [],
   "source": []
  }
 ],
 "metadata": {
  "kernelspec": {
   "display_name": "Python 3",
   "language": "python",
   "name": "python3"
  },
  "language_info": {
   "codemirror_mode": {
    "name": "ipython",
    "version": 3
   },
   "file_extension": ".py",
   "mimetype": "text/x-python",
   "name": "python",
   "nbconvert_exporter": "python",
   "pygments_lexer": "ipython3",
   "version": "3.7.3"
  }
 },
 "nbformat": 4,
 "nbformat_minor": 2
}
