{
 "cells": [
  {
   "cell_type": "code",
   "execution_count": 7,
   "metadata": {},
   "outputs": [],
   "source": [
    "import os,sys,inspect\n",
    "currentdir = os.path.dirname(os.path.abspath(inspect.getfile(inspect.currentframe())))\n",
    "parentdir = os.path.dirname(currentdir)\n",
    "sys.path.insert(0,parentdir) "
   ]
  },
  {
   "cell_type": "code",
   "execution_count": 8,
   "metadata": {},
   "outputs": [],
   "source": [
    "import pandas as pd\n",
    "import numpy as np"
   ]
  },
  {
   "cell_type": "code",
   "execution_count": 9,
   "metadata": {},
   "outputs": [
    {
     "name": "stdout",
     "output_type": "stream",
     "text": [
      "The autoreload extension is already loaded. To reload it, use:\n",
      "  %reload_ext autoreload\n"
     ]
    }
   ],
   "source": [
    "%load_ext autoreload\n",
    "%autoreload 2"
   ]
  },
  {
   "cell_type": "code",
   "execution_count": 10,
   "metadata": {
    "scrolled": false
   },
   "outputs": [],
   "source": [
    "import json\n",
    "import networkx as nx\n",
    "import src.build_graph as bg"
   ]
  },
  {
   "cell_type": "code",
   "execution_count": 19,
   "metadata": {},
   "outputs": [],
   "source": [
    "import logging\n",
    "logger = logging.getLogger('debug')\n",
    "hdlr = logging.FileHandler('/home/zjliao/dsc180a/debug.log', 'w')\n",
    "formatter = logging.Formatter('%(asctime)s %(levelname)s %(message)s')\n",
    "hdlr.setFormatter(formatter)\n",
    "logger.addHandler(hdlr) \n",
    "logger.setLevel(logging.DEBUG)"
   ]
  },
  {
   "cell_type": "code",
   "execution_count": 20,
   "metadata": {},
   "outputs": [],
   "source": [
    "logger.debug('testing')"
   ]
  },
  {
   "cell_type": "code",
   "execution_count": 21,
   "metadata": {},
   "outputs": [],
   "source": [
    "ENV = json.load(open('/home/zjliao/dsc180a/config/env.json'))"
   ]
  },
  {
   "cell_type": "code",
   "execution_count": 22,
   "metadata": {
    "scrolled": false
   },
   "outputs": [
    {
     "name": "stdout",
     "output_type": "stream",
     "text": [
      "get info\n",
      "check malware\n",
      "5550\n",
      "Build A\n",
      "extract smali\n",
      "build adjacency matrix\n"
     ]
    }
   ],
   "source": [
    "cfg = json.load(open('/home/zjliao/dsc180a/config/test-params.json'))\n",
    "logger.info(cfg)\n",
    "malware = bg.malware_detection(**cfg)\n",
    "A, apis, apks = malware.buildA_matrix()"
   ]
  },
  {
   "cell_type": "code",
   "execution_count": 24,
   "metadata": {
    "scrolled": true
   },
   "outputs": [
    {
     "data": {
      "text/plain": [
       "0                             java/lang/Object;-><init>()V\n",
       "1        com/trid/tridad/TriDContentsView$Renderer;->is...\n",
       "2        com/trid/tridad/TriDBrowser;->sendTouchMessage...\n",
       "3        com/trid/tridad/TriDContentsView;->access$8()L...\n",
       "4        android/util/Log;->w(Ljava/lang/String;Ljava/l...\n",
       "                               ...                        \n",
       "56074    com/soft/android/appinstaller/GlobalConfig;->g...\n",
       "56075    com/soft/android/appinstaller/FirstActivity;->...\n",
       "56076    com/soft/android/appinstaller/MemberActivity;-...\n",
       "56077    com/soft/android/appinstaller/MemberActivity;-...\n",
       "56078    com/soft/android/appinstaller/MemberActivity;-...\n",
       "Length: 56079, dtype: object"
      ]
     },
     "execution_count": 24,
     "metadata": {},
     "output_type": "execute_result"
    }
   ],
   "source": [
    "apis"
   ]
  },
  {
   "cell_type": "code",
   "execution_count": 37,
   "metadata": {},
   "outputs": [
    {
     "data": {
      "text/html": [
       "<div>\n",
       "<style scoped>\n",
       "    .dataframe tbody tr th:only-of-type {\n",
       "        vertical-align: middle;\n",
       "    }\n",
       "\n",
       "    .dataframe tbody tr th {\n",
       "        vertical-align: top;\n",
       "    }\n",
       "\n",
       "    .dataframe thead th {\n",
       "        text-align: right;\n",
       "    }\n",
       "</style>\n",
       "<table border=\"1\" class=\"dataframe\">\n",
       "  <thead>\n",
       "    <tr style=\"text-align: right;\">\n",
       "      <th></th>\n",
       "      <th>0</th>\n",
       "    </tr>\n",
       "  </thead>\n",
       "  <tbody>\n",
       "    <tr>\n",
       "      <th>0</th>\n",
       "      <td>(0, 0)\\t1\\n  (0, 1)\\t1\\n  (0, 2)\\t1\\n  (0, 3...</td>\n",
       "    </tr>\n",
       "    <tr>\n",
       "      <th>1</th>\n",
       "      <td>(0, 0)\\t1\\n  (0, 4)\\t1\\n  (0, 12)\\t1\\n  (0, ...</td>\n",
       "    </tr>\n",
       "    <tr>\n",
       "      <th>2</th>\n",
       "      <td>(0, 0)\\t1\\n  (0, 4)\\t1\\n  (0, 6)\\t1\\n  (0, 1...</td>\n",
       "    </tr>\n",
       "    <tr>\n",
       "      <th>3</th>\n",
       "      <td>(0, 0)\\t1\\n  (0, 4)\\t1\\n  (0, 12)\\t1\\n  (0, ...</td>\n",
       "    </tr>\n",
       "    <tr>\n",
       "      <th>4</th>\n",
       "      <td>(0, 0)\\t1</td>\n",
       "    </tr>\n",
       "    <tr>\n",
       "      <th>5</th>\n",
       "      <td>(0, 0)\\t1\\n  (0, 16)\\t1\\n  (0, 18)\\t1\\n  (0,...</td>\n",
       "    </tr>\n",
       "    <tr>\n",
       "      <th>6</th>\n",
       "      <td>(0, 0)\\t1\\n  (0, 18)\\t1\\n  (0, 24)\\t1\\n  (0,...</td>\n",
       "    </tr>\n",
       "    <tr>\n",
       "      <th>7</th>\n",
       "      <td>(0, 0)\\t1\\n  (0, 16)\\t1\\n  (0, 18)\\t1\\n  (0,...</td>\n",
       "    </tr>\n",
       "    <tr>\n",
       "      <th>8</th>\n",
       "      <td>(0, 0)\\t1\\n  (0, 16)\\t1\\n  (0, 18)\\t1\\n  (0,...</td>\n",
       "    </tr>\n",
       "    <tr>\n",
       "      <th>9</th>\n",
       "      <td>(0, 0)\\t1\\n  (0, 16)\\t1\\n  (0, 18)\\t1\\n  (0,...</td>\n",
       "    </tr>\n",
       "  </tbody>\n",
       "</table>\n",
       "</div>"
      ],
      "text/plain": [
       "                                                   0\n",
       "0    (0, 0)\\t1\\n  (0, 1)\\t1\\n  (0, 2)\\t1\\n  (0, 3...\n",
       "1    (0, 0)\\t1\\n  (0, 4)\\t1\\n  (0, 12)\\t1\\n  (0, ...\n",
       "2    (0, 0)\\t1\\n  (0, 4)\\t1\\n  (0, 6)\\t1\\n  (0, 1...\n",
       "3    (0, 0)\\t1\\n  (0, 4)\\t1\\n  (0, 12)\\t1\\n  (0, ...\n",
       "4                                          (0, 0)\\t1\n",
       "5    (0, 0)\\t1\\n  (0, 16)\\t1\\n  (0, 18)\\t1\\n  (0,...\n",
       "6    (0, 0)\\t1\\n  (0, 18)\\t1\\n  (0, 24)\\t1\\n  (0,...\n",
       "7    (0, 0)\\t1\\n  (0, 16)\\t1\\n  (0, 18)\\t1\\n  (0,...\n",
       "8    (0, 0)\\t1\\n  (0, 16)\\t1\\n  (0, 18)\\t1\\n  (0,...\n",
       "9    (0, 0)\\t1\\n  (0, 16)\\t1\\n  (0, 18)\\t1\\n  (0,..."
      ]
     },
     "execution_count": 37,
     "metadata": {},
     "output_type": "execute_result"
    }
   ],
   "source": []
  },
  {
   "cell_type": "code",
   "execution_count": 26,
   "metadata": {},
   "outputs": [],
   "source": [
    "from scipy import sparse"
   ]
  },
  {
   "cell_type": "code",
   "execution_count": 29,
   "metadata": {},
   "outputs": [
    {
     "data": {
      "text/plain": [
       "<10x56079 sparse matrix of type '<class 'numpy.int64'>'\n",
       "\twith 73457 stored elements in Compressed Sparse Row format>"
      ]
     },
     "execution_count": 29,
     "metadata": {},
     "output_type": "execute_result"
    }
   ],
   "source": [
    "A = sparse.csr_matrix(A)\n",
    "A"
   ]
  },
  {
   "cell_type": "code",
   "execution_count": 31,
   "metadata": {},
   "outputs": [
    {
     "name": "stdout",
     "output_type": "stream",
     "text": [
      "Build B\n",
      "create B graph\n"
     ]
    }
   ],
   "source": [
    "B_graph = malware.build_B()"
   ]
  },
  {
   "cell_type": "code",
   "execution_count": 34,
   "metadata": {},
   "outputs": [],
   "source": [
    "B = nx.adjacency_matrix(B_graph, apis)"
   ]
  },
  {
   "cell_type": "code",
   "execution_count": 35,
   "metadata": {
    "scrolled": true
   },
   "outputs": [
    {
     "data": {
      "text/plain": [
       "<56079x56079 sparse matrix of type '<class 'numpy.int64'>'\n",
       "\twith 1075107 stored elements in Compressed Sparse Row format>"
      ]
     },
     "execution_count": 35,
     "metadata": {},
     "output_type": "execute_result"
    }
   ],
   "source": [
    "B"
   ]
  },
  {
   "cell_type": "code",
   "execution_count": null,
   "metadata": {
    "scrolled": false
   },
   "outputs": [],
   "source": [
    "P = nx.adjacency_matrix(malware.build_P(), apis)"
   ]
  },
  {
   "cell_type": "code",
   "execution_count": null,
   "metadata": {
    "scrolled": false
   },
   "outputs": [],
   "source": [
    "P"
   ]
  },
  {
   "cell_type": "code",
   "execution_count": null,
   "metadata": {
    "scrolled": true
   },
   "outputs": [],
   "source": [
    "A*A.T"
   ]
  },
  {
   "cell_type": "code",
   "execution_count": null,
   "metadata": {
    "scrolled": false
   },
   "outputs": [],
   "source": [
    "A*B*A.T"
   ]
  },
  {
   "cell_type": "code",
   "execution_count": null,
   "metadata": {
    "scrolled": false
   },
   "outputs": [],
   "source": [
    "A*B*P*P.T*B.T*A.T"
   ]
  },
  {
   "cell_type": "code",
   "execution_count": null,
   "metadata": {},
   "outputs": [],
   "source": [
    "from sklearn.model_selection import train_test_split\n",
    "from sklearn.svm import SVC"
   ]
  },
  {
   "cell_type": "code",
   "execution_count": null,
   "metadata": {},
   "outputs": [],
   "source": [
    "x = A\n",
    "y = [1 if(num<5) else 0 for num in range(10)]"
   ]
  },
  {
   "cell_type": "code",
   "execution_count": null,
   "metadata": {},
   "outputs": [],
   "source": [
    "X_train, X_test, y_train, y_test = train_test_split(x, y, test_size=0.3)"
   ]
  },
  {
   "cell_type": "code",
   "execution_count": null,
   "metadata": {},
   "outputs": [],
   "source": [
    "def AA(a):\n",
    "    return a * a.T\n",
    "\n",
    "def ABA(a, b):\n",
    "    return a * b * a.T\n",
    "\n",
    "def APA(a, p):\n",
    "    return a * p * a.T\n",
    "\n",
    "def APBPA(a, b, p):\n",
    "    return a * p * b * p.T * a.T"
   ]
  },
  {
   "cell_type": "code",
   "execution_count": null,
   "metadata": {
    "scrolled": true
   },
   "outputs": [],
   "source": [
    "clf = SVC(kernel = 'precomputed')\n",
    "kernel_train = AA(X_train)\n",
    "clf.fit(kernel_train, y_train)\n",
    "kernel_test = np.dot(X_test, X_train.T)\n",
    "aa = clf.score(kernel_test, y_test)"
   ]
  },
  {
   "cell_type": "code",
   "execution_count": null,
   "metadata": {},
   "outputs": [],
   "source": [
    "# ABA\n",
    "clf = SVC(kernel = 'precomputed')\n",
    "kernel_train = ABA(X_train, B)\n",
    "clf.fit(kernel_train, y_train)\n",
    "kernel_test = X_test * B * X_train.T\n",
    "aba = clf.score(kernel_test, y_test)"
   ]
  },
  {
   "cell_type": "code",
   "execution_count": null,
   "metadata": {},
   "outputs": [],
   "source": [
    "# APA\n",
    "clf = SVC(kernel = 'precomputed')\n",
    "kernel_train = X_train * P * X_train.T\n",
    "clf.fit(kernel_train, y_train)\n",
    "kernel_test = X_test * P * X_train.T\n",
    "apa = clf.score(kernel_test, y_test)"
   ]
  },
  {
   "cell_type": "code",
   "execution_count": null,
   "metadata": {},
   "outputs": [],
   "source": [
    "# APBPA\n",
    "clf = SVC(kernel = 'precomputed')\n",
    "kernel_train = APBPA(X_train, B, P)\n",
    "clf.fit(kernel_train, y_train)\n",
    "kernel_test = X_test * P * B * P.T * X_train.T\n",
    "apbpa = clf.score(kernel_test, y_test)"
   ]
  },
  {
   "cell_type": "code",
   "execution_count": null,
   "metadata": {},
   "outputs": [],
   "source": [
    "results = {\n",
    "    'aa': aa,\n",
    "    'aba': aba,\n",
    "    'apa': apa,\n",
    "    'apbpa': apbpa\n",
    "}"
   ]
  },
  {
   "cell_type": "code",
   "execution_count": null,
   "metadata": {},
   "outputs": [],
   "source": [
    "_, outpath = ENV"
   ]
  },
  {
   "cell_type": "code",
   "execution_count": null,
   "metadata": {},
   "outputs": [],
   "source": [
    "outpath"
   ]
  },
  {
   "cell_type": "code",
   "execution_count": null,
   "metadata": {},
   "outputs": [],
   "source": [
    "res = json.dumps(results)\n",
    "outpath = ENV['output-paths']\n",
    "f = open(\"%s/results.json\"%outpath,\"w\")\n",
    "f.write(res)\n",
    "f.close()"
   ]
  },
  {
   "cell_type": "code",
   "execution_count": null,
   "metadata": {},
   "outputs": [],
   "source": []
  }
 ],
 "metadata": {
  "kernelspec": {
   "display_name": "Python 3",
   "language": "python",
   "name": "python3"
  },
  "language_info": {
   "codemirror_mode": {
    "name": "ipython",
    "version": 3
   },
   "file_extension": ".py",
   "mimetype": "text/x-python",
   "name": "python",
   "nbconvert_exporter": "python",
   "pygments_lexer": "ipython3",
   "version": "3.7.3"
  }
 },
 "nbformat": 4,
 "nbformat_minor": 2
}
