{
 "cells": [
  {
   "cell_type": "code",
   "execution_count": 5,
   "metadata": {
    "scrolled": false
   },
   "outputs": [
    {
     "name": "stdout",
     "output_type": "stream",
     "text": [
      "The autoreload extension is already loaded. To reload it, use:\n",
      "  %reload_ext autoreload\n"
     ]
    },
    {
     "name": "stderr",
     "output_type": "stream",
     "text": [
      "/Users/jeffliao/Desktop/dsc180a/project/lib/create_database.py:19: UserWarning: No parser was explicitly specified, so I'm using the best available HTML parser for this system (\"lxml\"). This usually isn't a problem, but if you run this code on another system, or in a different virtual environment, it may use a different parser and behave differently.\n",
      "\n",
      "The code that caused this warning is on line 19 of the file /Users/jeffliao/Desktop/dsc180a/project/lib/create_database.py. To get rid of this warning, pass the additional argument 'features=\"lxml\"' to the BeautifulSoup constructor.\n",
      "\n",
      "  soup = BeautifulSoup(site.text)\n"
     ]
    }
   ],
   "source": [
    "import pandas as pd\n",
    "import numpy as np\n",
    "import glob\n",
    "import re\n",
    "import networkx as nx\n",
    "from collections import defaultdict\n",
    "import itertools\n",
    "import matplotlib.pyplot as plt\n",
    "import json\n",
    "import requests\n",
    "import gzip\n",
    "from bs4 import BeautifulSoup\n",
    "import re\n",
    "import os\n",
    "\n",
    "%load_ext autoreload\n",
    "%autoreload 2\n",
    "import lib.build_graph as bg\n",
    "import lib.create_database as cdb"
   ]
  },
  {
   "cell_type": "code",
   "execution_count": 3,
   "metadata": {
    "scrolled": true
   },
   "outputs": [],
   "source": [
    "# get files and data\n",
    "# cfg = json.load(open('config/n_app.json'))\n",
    "# db.main(**cfg)"
   ]
  },
  {
   "cell_type": "code",
   "execution_count": 96,
   "metadata": {
    "scrolled": false
   },
   "outputs": [],
   "source": [
    "def main(smali_src, number_of_smali, **kwargs):\n",
    "    # initalize data\n",
    "    smali = cdb.get_smali(smali_src)\n",
    "    test = smali[:number_of_smali]\n",
    "    \n",
    "#     calls = list()\n",
    "\n",
    "    for f in test:\n",
    "        blocks = defaultdict(list)\n",
    "        same_block = defaultdict(list)\n",
    "        \n",
    "        with open(f) as file:\n",
    "            # record all api calls\n",
    "#             bg.find_api_calls(file, calls)\n",
    "#             file.seek(0)\n",
    "            \n",
    "            # build B\n",
    "            bg.locate_method_blocks(file, blocks)\n",
    "            for b in blocks:\n",
    "                apis = []\n",
    "                bg.find_api_calls(blocks[b], apis)\n",
    "                same_block[b] = apis\n",
    "            bg.create_edges(same_block, B_graph)\n",
    "            \n",
    "            file.seek(0)\n",
    "            # build P\n",
    "            for line in file:\n",
    "                if('invoke-' in line and 'method' not in line):\n",
    "                    package = bg.find_package(line)\n",
    "                    method = bg.find_method(line)\n",
    "                    packageD[package].append(method)\n",
    "                    \n",
    "                    api = []\n",
    "                    bg.find_api_calls([line], api)\n",
    "                    invoke = bg.find_invoke(line)\n",
    "                    invokeD[invoke].append(api[0])"
   ]
  },
  {
   "cell_type": "code",
   "execution_count": 97,
   "metadata": {
    "scrolled": false
   },
   "outputs": [
    {
     "name": "stdout",
     "output_type": "stream",
     "text": [
      "game_arcade-84\n",
      "game_trivia-33\n",
      "tools-115\n",
      "personalization-1\n",
      "tools-60\n",
      "tools-381\n",
      "game_simulation-4\n",
      "business-15\n",
      "education-117\n",
      "game_casual-183\n",
      "travel_and_local-102\n",
      "travel_and_local-104\n",
      "entertainment-461\n",
      "lifestyle-133\n",
      "news_and_magazines-41\n",
      "news_and_magazines-23\n",
      "tools-276\n",
      "shopping-56\n",
      "medical-46\n",
      "personalization-102\n",
      "entertainment-334\n",
      "entertainment-536\n",
      "medical-59\n",
      "social-82\n",
      "auto_and_vehicles-6\n",
      "entertainment-313\n",
      "tools-30\n",
      "game_puzzle-162\n",
      "game_puzzle-165\n",
      "lifestyle-282\n",
      "travel_and_local-108\n",
      "news_and_magazines-113\n",
      "entertainment-81\n",
      "productivity-12\n",
      "entertainment-19\n",
      "lifestyle-75\n",
      "game_action-89\n",
      "productivity-13\n",
      "game_action-26\n",
      "lifestyle-74\n",
      "music_and_audio-94\n",
      "entertainment-274\n",
      "music_and_audio-18\n",
      "entertainment-93\n",
      "lifestyle-50\n",
      "shopping-105\n",
      "video_players-11\n",
      "game_casual-54\n",
      "game_arcade-34\n",
      "business-433\n",
      "CPU times: user 47.5 s, sys: 14.6 s, total: 1min 2s\n",
      "Wall time: 1min 28s\n"
     ]
    }
   ],
   "source": [
    "%%time\n",
    "\n",
    "B_graph = nx.Graph()\n",
    "P_graph = nx.Graph()\n",
    "I_graph = nx.Graph()\n",
    "\n",
    "packageD = defaultdict(list)\n",
    "invokeD = {'direct': [], 'virtual':[], 'static':[], 'super':[],'interface':[]}\n",
    "\n",
    "cfg = json.load(open('config/1_app.json'))\n",
    "main(**cfg)\n",
    "bg.create_edges(packageD, P_graph)\n",
    "bg.create_edges(invokeD, I_graph)\n",
    "A, apis, apks = bg.buildA_matrix('./data/smali')"
   ]
  },
  {
   "cell_type": "code",
   "execution_count": 98,
   "metadata": {},
   "outputs": [],
   "source": [
    "B = nx.adjacency_matrix(B_graph, apis.values)\n",
    "I = nx.adjacency_matrix(I_graph, apis.values)"
   ]
  },
  {
   "cell_type": "code",
   "execution_count": 125,
   "metadata": {
    "scrolled": true
   },
   "outputs": [
    {
     "data": {
      "text/plain": [
       "<95x95 sparse matrix of type '<class 'numpy.int64'>'\n",
       "\twith 1328 stored elements in Compressed Sparse Row format>"
      ]
     },
     "execution_count": 125,
     "metadata": {},
     "output_type": "execute_result"
    }
   ],
   "source": [
    "nx.adjacency_matrix(P_graph)"
   ]
  },
  {
   "cell_type": "code",
   "execution_count": 26,
   "metadata": {},
   "outputs": [],
   "source": [
    "ABA = A*B*A.transpose()"
   ]
  },
  {
   "cell_type": "code",
   "execution_count": 24,
   "metadata": {},
   "outputs": [
    {
     "data": {
      "text/plain": [
       "(50, 60503)"
      ]
     },
     "execution_count": 24,
     "metadata": {},
     "output_type": "execute_result"
    }
   ],
   "source": [
    "A.shape"
   ]
  },
  {
   "cell_type": "code",
   "execution_count": 25,
   "metadata": {},
   "outputs": [
    {
     "data": {
      "text/plain": [
       "(60503, 60503)"
      ]
     },
     "execution_count": 25,
     "metadata": {},
     "output_type": "execute_result"
    }
   ],
   "source": [
    "B.shape"
   ]
  },
  {
   "cell_type": "code",
   "execution_count": 27,
   "metadata": {},
   "outputs": [
    {
     "data": {
      "text/plain": [
       "(50, 50)"
      ]
     },
     "execution_count": 27,
     "metadata": {},
     "output_type": "execute_result"
    }
   ],
   "source": [
    "ABA.shape"
   ]
  },
  {
   "cell_type": "code",
   "execution_count": 28,
   "metadata": {},
   "outputs": [
    {
     "data": {
      "text/plain": [
       "matrix([[65, 52, 52, ..., 51, 31, 65],\n",
       "        [52, 45, 45, ..., 45, 28, 52],\n",
       "        [52, 45, 45, ..., 45, 28, 52],\n",
       "        ...,\n",
       "        [51, 45, 45, ..., 45, 28, 51],\n",
       "        [31, 28, 28, ..., 28, 18, 31],\n",
       "        [65, 52, 52, ..., 51, 31, 65]], dtype=int64)"
      ]
     },
     "execution_count": 28,
     "metadata": {},
     "output_type": "execute_result"
    }
   ],
   "source": [
    "ABA"
   ]
  },
  {
   "cell_type": "code",
   "execution_count": null,
   "metadata": {},
   "outputs": [],
   "source": []
  },
  {
   "cell_type": "code",
   "execution_count": null,
   "metadata": {},
   "outputs": [],
   "source": []
  }
 ],
 "metadata": {
  "kernelspec": {
   "display_name": "Python 3",
   "language": "python",
   "name": "python3"
  },
  "language_info": {
   "codemirror_mode": {
    "name": "ipython",
    "version": 3
   },
   "file_extension": ".py",
   "mimetype": "text/x-python",
   "name": "python",
   "nbconvert_exporter": "python",
   "pygments_lexer": "ipython3",
   "version": "3.7.5"
  }
 },
 "nbformat": 4,
 "nbformat_minor": 2
}
