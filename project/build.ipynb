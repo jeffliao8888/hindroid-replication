{
 "cells": [
  {
   "cell_type": "code",
   "execution_count": 3,
   "metadata": {
    "scrolled": false
   },
   "outputs": [
    {
     "name": "stderr",
     "output_type": "stream",
     "text": [
      "/Users/jeffliao/Desktop/dsc180a/project/lib/create_database.py:19: UserWarning: No parser was explicitly specified, so I'm using the best available HTML parser for this system (\"lxml\"). This usually isn't a problem, but if you run this code on another system, or in a different virtual environment, it may use a different parser and behave differently.\n",
      "\n",
      "The code that caused this warning is on line 19 of the file /Users/jeffliao/Desktop/dsc180a/project/lib/create_database.py. To get rid of this warning, pass the additional argument 'features=\"lxml\"' to the BeautifulSoup constructor.\n",
      "\n",
      "  soup = BeautifulSoup(site.text)\n"
     ]
    }
   ],
   "source": [
    "import pandas as pd\n",
    "import numpy as np\n",
    "import glob\n",
    "import re\n",
    "import networkx as nx\n",
    "from collections import defaultdict\n",
    "import itertools\n",
    "import matplotlib.pyplot as plt\n",
    "import json\n",
    "import requests\n",
    "import gzip\n",
    "from bs4 import BeautifulSoup\n",
    "import re\n",
    "import os\n",
    "\n",
    "%load_ext autoreload\n",
    "%autoreload 2\n",
    "import lib.build_graph as bg\n",
    "import lib.create_database as cdb"
   ]
  },
  {
   "cell_type": "code",
   "execution_count": null,
   "metadata": {
    "scrolled": true
   },
   "outputs": [],
   "source": [
    "# get files and data\n",
    "# cfg = json.load(open('config/n_app.json'))\n",
    "# db.main(**cfg)"
   ]
  },
  {
   "cell_type": "code",
   "execution_count": null,
   "metadata": {
    "scrolled": false
   },
   "outputs": [],
   "source": [
    "def main(smali_src, number_of_smali, **kwargs):\n",
    "    # initalize data\n",
    "    smali = cdb.get_smali(smali_src)\n",
    "#     test = smali[:number_of_smali]\n",
    "    \n",
    "#     calls = list()\n",
    "\n",
    "    for f in smali:\n",
    "        blocks = defaultdict(list)\n",
    "        same_block = defaultdict(list)\n",
    "        \n",
    "        with open(f) as file:\n",
    "            # record all api calls\n",
    "#             bg.find_api_calls(file, calls)\n",
    "#             file.seek(0)\n",
    "            \n",
    "            # build B\n",
    "            bg.locate_method_blocks(file, blocks)\n",
    "            for b in blocks:\n",
    "                apis = []\n",
    "                bg.find_api_calls(blocks[b], apis)\n",
    "                same_block[b] = apis\n",
    "            bg.create_edges(same_block, B_graph)\n",
    "            \n",
    "            file.seek(0)\n",
    "            # build P\n",
    "            for line in file:\n",
    "                if('invoke-' in line and 'method' not in line):\n",
    "                    package = bg.find_package(line)\n",
    "                    method = bg.find_method(line)\n",
    "                    packageD[package].append(method)\n",
    "                    \n",
    "                    api = []\n",
    "                    bg.find_api_calls([line], api)\n",
    "                    invoke = bg.find_invoke(line)\n",
    "                    invokeD[invoke].append(api[0])"
   ]
  },
  {
   "cell_type": "code",
   "execution_count": 2,
   "metadata": {
    "scrolled": false
   },
   "outputs": [
    {
     "name": "stdout",
     "output_type": "stream",
     "text": [
      "entertainment-146\n",
      "personalization-48\n",
      "game_simulation-29\n",
      "game_arcade-126\n",
      "lifestyle-424\n",
      "travel_and_local-151\n",
      "business-24\n",
      "productivity-20\n",
      "entertainment-47\n",
      "books_and_reference-195\n",
      "entertainment-70\n",
      "game_board-5\n",
      "productivity-19\n",
      "shopping-1\n",
      "game_adventure-108\n",
      "travel_and_local-121\n",
      "business-325\n",
      "game_casual-108\n",
      "business-118\n",
      "maps_and_navigation-27\n",
      "tools-20\n",
      "education-484\n",
      "entertainment-138\n",
      "personalization-105\n",
      "food_and_drink-89\n",
      "game_puzzle-52\n",
      "game_adventure-46\n",
      "events-18\n",
      "game_arcade-90\n",
      "tools-111\n",
      "sports-70\n",
      "game_adventure-59\n",
      "game_arcade-182\n",
      "entertainment-633\n",
      "game_casual-118\n",
      "communication-107\n",
      "tools-245\n",
      "game_educational-22\n",
      "game_casual-161\n",
      "game_word-8\n",
      "business-344\n",
      "game_casual-102\n",
      "events-3\n",
      "libraries_and_demo-15\n",
      "health_and_fitness-163\n",
      "entertainment-502\n",
      "photography-32\n",
      "productivity-5\n",
      "game_arcade-108\n",
      "lifestyle-450\n",
      "CPU times: user 2min 49s, sys: 14.5 s, total: 3min 4s\n",
      "Wall time: 3min 37s\n"
     ]
    }
   ],
   "source": [
    "%%time\n",
    "\n",
    "# B_graph = nx.Graph()\n",
    "# P_graph = nx.Graph()\n",
    "# I_graph = nx.Graph()\n",
    "\n",
    "# packageD = defaultdict(list)\n",
    "# invokeD = {'direct': [], 'virtual':[], 'static':[], 'super':[],'interface':[]}\n",
    "\n",
    "cfg = json.load(open('config/data-params.json'))\n",
    "# main(**cfg)\n",
    "# bg.create_edges(packageD, P_graph)\n",
    "# bg.create_edges(invokeD, I_graph)\n",
    "A, apis, apks = bg.buildA_matrix('./data/smali')"
   ]
  },
  {
   "cell_type": "code",
   "execution_count": null,
   "metadata": {
    "scrolled": true
   },
   "outputs": [],
   "source": [
    "A.shape"
   ]
  },
  {
   "cell_type": "code",
   "execution_count": null,
   "metadata": {},
   "outputs": [],
   "source": [
    "packageD"
   ]
  },
  {
   "cell_type": "code",
   "execution_count": null,
   "metadata": {
    "scrolled": true
   },
   "outputs": [],
   "source": [
    "A"
   ]
  },
  {
   "cell_type": "code",
   "execution_count": null,
   "metadata": {},
   "outputs": [],
   "source": [
    "B = nx.adjacency_matrix(B_graph, apis.values)\n",
    "I = nx.adjacency_matrix(I_graph, apis.values)"
   ]
  },
  {
   "cell_type": "code",
   "execution_count": null,
   "metadata": {},
   "outputs": [],
   "source": [
    "len(B_graph.edges)"
   ]
  },
  {
   "cell_type": "code",
   "execution_count": null,
   "metadata": {
    "scrolled": true
   },
   "outputs": [],
   "source": [
    "(P_graph.nodes)"
   ]
  },
  {
   "cell_type": "code",
   "execution_count": null,
   "metadata": {},
   "outputs": [],
   "source": [
    "ABA = A*B*A.transpose()"
   ]
  },
  {
   "cell_type": "code",
   "execution_count": null,
   "metadata": {},
   "outputs": [],
   "source": [
    "A.shape"
   ]
  },
  {
   "cell_type": "code",
   "execution_count": null,
   "metadata": {},
   "outputs": [],
   "source": [
    "B.shape"
   ]
  },
  {
   "cell_type": "code",
   "execution_count": null,
   "metadata": {},
   "outputs": [],
   "source": [
    "ABA.shape"
   ]
  },
  {
   "cell_type": "code",
   "execution_count": null,
   "metadata": {},
   "outputs": [],
   "source": [
    "ABA"
   ]
  },
  {
   "cell_type": "code",
   "execution_count": null,
   "metadata": {},
   "outputs": [],
   "source": [
    "%%time\n",
    "def create_B(smali_src, **kwargs):\n",
    "    smali = cdb.get_smali(smali_src)\n",
    "    B_graph = nx.Graph()\n",
    "    same_block = defaultdict(list)\n",
    "    for f in smali:\n",
    "        with open(f) as file:\n",
    "            blocks = defaultdict(list)\n",
    "            # build B\n",
    "            bg.locate_method_blocks(file, blocks)\n",
    "            for b in blocks:\n",
    "                key = f + str(b)\n",
    "                apis = []\n",
    "                bg.find_api_calls(blocks[b], apis)\n",
    "                if (len(apis) >= 2):\n",
    "                    same_block[key] = apis\n",
    "\n",
    "    bg.create_edges(same_block, B_graph)\n",
    "    return B_graph\n",
    "\n",
    "cfg = json.load(open('config/data-params.json'))\n",
    "B = nx.adjacency_matrix(create_B(**cfg), apis.values)"
   ]
  },
  {
   "cell_type": "code",
   "execution_count": null,
   "metadata": {},
   "outputs": [],
   "source": [
    "B"
   ]
  },
  {
   "cell_type": "code",
   "execution_count": 8,
   "metadata": {},
   "outputs": [
    {
     "name": "stdout",
     "output_type": "stream",
     "text": [
      "CPU times: user 3min 21s, sys: 9.99 s, total: 3min 31s\n",
      "Wall time: 3min 31s\n"
     ]
    }
   ],
   "source": [
    "%%time\n",
    "def build_P(smali_src, **kwargs):\n",
    "    # initalize data\n",
    "    smali = cdb.get_smali(smali_src)\n",
    "    \n",
    "    P_graph = nx.Graph()\n",
    "    packageD = defaultdict(list)\n",
    "\n",
    "    count = 0\n",
    "    for f in smali:\n",
    "        with open(f) as file:\n",
    "            # build P\n",
    "            for line in file:\n",
    "                if('invoke-' in line and 'method' not in line): \n",
    "                    try:\n",
    "                        if(count < 1000):\n",
    "                            api = []\n",
    "                            bg.find_api_calls([line], api)\n",
    "                            package = bg.find_package(line)\n",
    "                            packageD[package].append(api[0])\n",
    "                            count += 1\n",
    "                        else:\n",
    "                            \n",
    "                            bg.create_edges(packageD, P_graph)\n",
    "                            packageD = defaultdict(list)\n",
    "                            count = 0\n",
    "                    except:\n",
    "                        pass\n",
    "\n",
    "    return  P_graph\n",
    "\n",
    "\n",
    "cfg = json.load(open('config/data-params.json'))\n",
    "P = build_P(**cfg)"
   ]
  },
  {
   "cell_type": "code",
   "execution_count": 9,
   "metadata": {},
   "outputs": [
    {
     "data": {
      "text/plain": [
       "<422660x422660 sparse matrix of type '<class 'numpy.int64'>'\n",
       "\twith 10982501 stored elements in Compressed Sparse Row format>"
      ]
     },
     "execution_count": 9,
     "metadata": {},
     "output_type": "execute_result"
    }
   ],
   "source": [
    "nx.adjacency_matrix(P, apis.values)"
   ]
  },
  {
   "cell_type": "code",
   "execution_count": null,
   "metadata": {},
   "outputs": [],
   "source": [
    "%%time\n",
    "def buildI(smali_src, **kwargs):\n",
    "    # initalize data\n",
    "    smali = cdb.get_smali(smali_src)\n",
    "    I_graph = nx.Graph()\n",
    "    invokeD = {'direct': [], 'virtual':[], 'static':[], 'super':[],'interface':[]}\n",
    "    for f in smali[:100000]:\n",
    "        with open(f) as file:\n",
    "            for line in file:\n",
    "                if('invoke-' in line and 'method' not in line):\n",
    "                    api = []\n",
    "                    bg.find_api_calls([line], api)\n",
    "                    invoke = bg.find_invoke(line)\n",
    "                    invokeD[invoke].append(api[0])\n",
    "    for key in invokeD:\n",
    "        invokeD[key] = set(invokeD[key])\n",
    "        \n",
    "    bg.create_edges(invokeD, I_graph)\n",
    "    return I_graph\n",
    "\n",
    "cfg = json.load(open('config/data-params.json'))\n",
    "I = buildI(**cfg)\n",
    "I"
   ]
  },
  {
   "cell_type": "code",
   "execution_count": 59,
   "metadata": {},
   "outputs": [
    {
     "name": "stdout",
     "output_type": "stream",
     "text": [
      "CPU times: user 25.9 s, sys: 1.11 s, total: 27 s\n",
      "Wall time: 27.3 s\n"
     ]
    },
    {
     "data": {
      "text/plain": [
       "<422660x422660 sparse matrix of type '<class 'numpy.int64'>'\n",
       "\twith 11548092 stored elements in Compressed Sparse Row format>"
      ]
     },
     "execution_count": 59,
     "metadata": {},
     "output_type": "execute_result"
    }
   ],
   "source": [
    "%%time\n",
    "nx.adjacency_matrix(I, apis.values)"
   ]
  },
  {
   "cell_type": "code",
   "execution_count": 4,
   "metadata": {
    "scrolled": true
   },
   "outputs": [],
   "source": [
    "cfg = json.load(open('config/test-params.json'))"
   ]
  },
  {
   "cell_type": "code",
   "execution_count": 5,
   "metadata": {},
   "outputs": [
    {
     "name": "stdout",
     "output_type": "stream",
     "text": [
      "entertainment-146\n",
      "personalization-48\n",
      "game_simulation-29\n",
      "game_arcade-126\n",
      "lifestyle-424\n"
     ]
    }
   ],
   "source": [
    "A, apis, apks = bg.buildA_matrix(**cfg)"
   ]
  },
  {
   "cell_type": "code",
   "execution_count": 7,
   "metadata": {},
   "outputs": [],
   "source": [
    "B = nx.adjacency_matrix(bg.build_B(**cfg), apis.values)"
   ]
  },
  {
   "cell_type": "code",
   "execution_count": 8,
   "metadata": {},
   "outputs": [
    {
     "data": {
      "text/plain": [
       "<58249x58249 sparse matrix of type '<class 'numpy.int64'>'\n",
       "\twith 1159620 stored elements in Compressed Sparse Row format>"
      ]
     },
     "execution_count": 8,
     "metadata": {},
     "output_type": "execute_result"
    }
   ],
   "source": [
    "B"
   ]
  },
  {
   "cell_type": "code",
   "execution_count": 9,
   "metadata": {},
   "outputs": [
    {
     "name": "stdout",
     "output_type": "stream",
     "text": [
      "CPU times: user 24.7 s, sys: 4.96 s, total: 29.6 s\n",
      "Wall time: 38.3 s\n"
     ]
    }
   ],
   "source": [
    "%%time\n",
    "P = nx.adjacency_matrix(bg.build_P(**cfg), apis.values)"
   ]
  },
  {
   "cell_type": "code",
   "execution_count": 10,
   "metadata": {},
   "outputs": [
    {
     "name": "stdout",
     "output_type": "stream",
     "text": [
      "CPU times: user 5min 17s, sys: 3min 21s, total: 8min 38s\n",
      "Wall time: 11min 19s\n"
     ]
    }
   ],
   "source": [
    "%%time\n",
    "I = nx.adjacency_matrix(bg.buildI(**cfg), apis.values)"
   ]
  },
  {
   "cell_type": "code",
   "execution_count": 11,
   "metadata": {},
   "outputs": [
    {
     "data": {
      "text/plain": [
       "<58249x58249 sparse matrix of type '<class 'numpy.int64'>'\n",
       "\twith 68258356 stored elements in Compressed Sparse Row format>"
      ]
     },
     "execution_count": 11,
     "metadata": {},
     "output_type": "execute_result"
    }
   ],
   "source": [
    "I"
   ]
  },
  {
   "cell_type": "code",
   "execution_count": null,
   "metadata": {},
   "outputs": [],
   "source": []
  }
 ],
 "metadata": {
  "kernelspec": {
   "display_name": "Python 3",
   "language": "python",
   "name": "python3"
  },
  "language_info": {
   "codemirror_mode": {
    "name": "ipython",
    "version": 3
   },
   "file_extension": ".py",
   "mimetype": "text/x-python",
   "name": "python",
   "nbconvert_exporter": "python",
   "pygments_lexer": "ipython3",
   "version": "3.7.5"
  }
 },
 "nbformat": 4,
 "nbformat_minor": 2
}
