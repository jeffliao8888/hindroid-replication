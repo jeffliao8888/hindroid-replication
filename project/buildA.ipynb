{
 "cells": [
  {
   "cell_type": "code",
   "execution_count": 1,
   "metadata": {},
   "outputs": [],
   "source": [
    "%load_ext autoreload\n",
    "%autoreload 2"
   ]
  },
  {
   "cell_type": "code",
   "execution_count": 3,
   "metadata": {
    "scrolled": true
   },
   "outputs": [
    {
     "name": "stderr",
     "output_type": "stream",
     "text": [
      "/Users/jeffliao/Desktop/dsc180a/project/lib/create_database.py:19: UserWarning: No parser was explicitly specified, so I'm using the best available HTML parser for this system (\"lxml\"). This usually isn't a problem, but if you run this code on another system, or in a different virtual environment, it may use a different parser and behave differently.\n",
      "\n",
      "The code that caused this warning is on line 19 of the file /Users/jeffliao/Desktop/dsc180a/project/lib/create_database.py. To get rid of this warning, pass the additional argument 'features=\"lxml\"' to the BeautifulSoup constructor.\n",
      "\n",
      "  soup = BeautifulSoup(site.text)\n"
     ]
    }
   ],
   "source": [
    "import pandas as pd\n",
    "import numpy as np\n",
    "import glob\n",
    "import re\n",
    "import networkx as nx\n",
    "from collections import defaultdict\n",
    "import itertools\n",
    "import matplotlib.pyplot as plt\n",
    "import json\n",
    "import requests\n",
    "import gzip\n",
    "from bs4 import BeautifulSoup\n",
    "import re\n",
    "import os\n",
    "\n",
    "# import lib.collection as c\n",
    "import lib.build_graph as bg\n",
    "import lib.create_database as db"
   ]
  },
  {
   "cell_type": "code",
   "execution_count": 4,
   "metadata": {
    "scrolled": true
   },
   "outputs": [],
   "source": [
    "# %%time\n",
    "# def get_A_info(smali_src):\n",
    "#     apk_api = defaultdict(set)\n",
    "#     names = os.listdir(smali_src)\n",
    "#     names = [file for file in names if (file[0]!= '.')]\n",
    "#     base_path = './data'\n",
    "#     for name in names:\n",
    "#         apis = list()\n",
    "#         path = os.path.join(base_path, name)\n",
    "#         smalies = c.get_smali(path)\n",
    "#         for s in smalies:\n",
    "#             with open(s) as fh:\n",
    "#                 bg.find_api_calls(fh, apis)\n",
    "#         apis = set(apis)\n",
    "#         for api in apis:\n",
    "#             apk_api[name].add(api)\n",
    "#     return apk_api, names, apis\n",
    "\n",
    "\n",
    "\n",
    "    \n",
    "# a = get_A_info('./data')"
   ]
  },
  {
   "cell_type": "code",
   "execution_count": 5,
   "metadata": {},
   "outputs": [],
   "source": [
    "# def buildA_matrix(data_src):\n",
    "#     # get a dictionary of the relationships\n",
    "#     a = get_A_info(data_src)\n",
    "#     connection = a[0]\n",
    "#     apks = a[1]\n",
    "#     apis = a[2]\n",
    "    \n",
    "#     # map the apks and apis to a unique index\n",
    "#     apk_index = pd.Series(apks)\n",
    "#     api_index = pd.Series(list(apis))\n",
    "\n",
    "#     # construct adjacency matrix\n",
    "#     adjacency = list()\n",
    "#     for i in (apk_index.index):\n",
    "#         name = apk_index.iloc[i]\n",
    "#         adjacency.append([1  if(api_index.iloc[j] in connection[name]) else 0 for j in range(len(api_index))])\n",
    "#     return np.matrix(adjacency)\n"
   ]
  },
  {
   "cell_type": "code",
   "execution_count": 6,
   "metadata": {},
   "outputs": [
    {
     "data": {
      "text/plain": [
       "'/Users/jeffliao/Desktop/dsc180a/project'"
      ]
     },
     "execution_count": 6,
     "metadata": {},
     "output_type": "execute_result"
    }
   ],
   "source": [
    "pwd"
   ]
  },
  {
   "cell_type": "code",
   "execution_count": 13,
   "metadata": {
    "scrolled": false
   },
   "outputs": [
    {
     "name": "stdout",
     "output_type": "stream",
     "text": [
      "game_arcade-84\n",
      "game_trivia-33\n",
      "tools-115\n",
      "personalization-1\n",
      "tools-60\n",
      "tools-381\n",
      "game_simulation-4\n",
      "business-15\n",
      "education-117\n",
      "game_casual-183\n",
      "travel_and_local-102\n",
      "travel_and_local-104\n",
      "entertainment-461\n",
      "lifestyle-133\n",
      "news_and_magazines-41\n",
      "news_and_magazines-23\n",
      "tools-276\n",
      "shopping-56\n",
      "medical-46\n",
      "personalization-102\n",
      "entertainment-334\n",
      "entertainment-536\n",
      "medical-59\n",
      "social-82\n",
      "auto_and_vehicles-6\n",
      "entertainment-313\n",
      "tools-30\n",
      "game_puzzle-162\n",
      "game_puzzle-165\n",
      "lifestyle-282\n",
      "travel_and_local-108\n",
      "news_and_magazines-113\n",
      "entertainment-81\n",
      "productivity-12\n",
      "entertainment-19\n",
      "lifestyle-75\n",
      "game_action-89\n",
      "productivity-13\n",
      "game_action-26\n",
      "lifestyle-74\n",
      "music_and_audio-94\n",
      "entertainment-274\n",
      "music_and_audio-18\n",
      "entertainment-93\n",
      "lifestyle-50\n",
      "shopping-105\n",
      "video_players-11\n",
      "game_casual-54\n",
      "game_arcade-34\n",
      "business-433\n",
      "CPU times: user 44.4 s, sys: 11.9 s, total: 56.3 s\n",
      "Wall time: 1min 8s\n"
     ]
    }
   ],
   "source": [
    "%%time\n",
    "A = bg.buildA_matrix('./data/smali')"
   ]
  },
  {
   "cell_type": "code",
   "execution_count": 42,
   "metadata": {},
   "outputs": [
    {
     "data": {
      "text/plain": [
       "matrix([[11164,  5705,  6029, ...,  1159,   191, 11164],\n",
       "        [ 5705,  8575,  8031, ...,   780,   120,  8575],\n",
       "        [ 6029,  8031, 11128, ...,   894,   151, 11128],\n",
       "        ...,\n",
       "        [ 1159,   780,   894, ...,  1188,   123,  1188],\n",
       "        [  191,   120,   151, ...,   123,   201,   201],\n",
       "        [11164,  8575, 11128, ...,  1188,   201, 60503]])"
      ]
     },
     "execution_count": 42,
     "metadata": {},
     "output_type": "execute_result"
    }
   ],
   "source": [
    "np.dot(A,A.transpose())"
   ]
  },
  {
   "cell_type": "code",
   "execution_count": null,
   "metadata": {},
   "outputs": [],
   "source": [
    "connection = a[0]\n",
    "apks = a[1]\n",
    "apis = a[2]"
   ]
  },
  {
   "cell_type": "code",
   "execution_count": null,
   "metadata": {
    "scrolled": true
   },
   "outputs": [],
   "source": [
    "apk_index = pd.Series(apks)\n",
    "apk_index"
   ]
  },
  {
   "cell_type": "code",
   "execution_count": null,
   "metadata": {},
   "outputs": [],
   "source": [
    "api_index = pd.Series(list(apis))\n",
    "api_index"
   ]
  },
  {
   "cell_type": "code",
   "execution_count": null,
   "metadata": {},
   "outputs": [],
   "source": [
    "\n",
    "        "
   ]
  },
  {
   "cell_type": "code",
   "execution_count": null,
   "metadata": {},
   "outputs": [],
   "source": []
  },
  {
   "cell_type": "code",
   "execution_count": null,
   "metadata": {},
   "outputs": [],
   "source": [
    "nx.draw_networkx(a)"
   ]
  },
  {
   "cell_type": "code",
   "execution_count": null,
   "metadata": {
    "scrolled": true
   },
   "outputs": [],
   "source": [
    "nx.adjacency_matrix(a).toarray()"
   ]
  },
  {
   "cell_type": "code",
   "execution_count": null,
   "metadata": {},
   "outputs": [],
   "source": [
    "nodes = ['com/google/android/gms/ads/e;->a()I', 'com/google/android/gms/ads/e;->b()I', 'com/google/android/gms/ads/e;->hashCode()I', 'com/google/android/gms/ads/e;->equals(Ljava/lang/Object;)Z', 'com/google/android/gms/ads/e;->toString()Ljava/lang/String;', 'com/google/a/c;-><init>(Lcom/google/android/gms/ads/e;)V', 'java/lang/Object;-><init>()V', 'com/google/android/gms/ads/e;-><init>(II)V', 'com/google/a/c;-><init>(IILjava/lang/String;)V']"
   ]
  },
  {
   "cell_type": "code",
   "execution_count": null,
   "metadata": {},
   "outputs": [],
   "source": []
  }
 ],
 "metadata": {
  "kernelspec": {
   "display_name": "Python 3",
   "language": "python",
   "name": "python3"
  },
  "language_info": {
   "codemirror_mode": {
    "name": "ipython",
    "version": 3
   },
   "file_extension": ".py",
   "mimetype": "text/x-python",
   "name": "python",
   "nbconvert_exporter": "python",
   "pygments_lexer": "ipython3",
   "version": "3.7.5"
  }
 },
 "nbformat": 4,
 "nbformat_minor": 2
}
