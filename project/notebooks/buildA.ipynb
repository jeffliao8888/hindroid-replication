{
 "cells": [
  {
   "cell_type": "code",
   "execution_count": 1,
   "metadata": {},
   "outputs": [],
   "source": [
    "%load_ext autoreload\n",
    "%autoreload 2"
   ]
  },
  {
   "cell_type": "code",
   "execution_count": 4,
   "metadata": {
    "scrolled": false
   },
   "outputs": [
    {
     "ename": "SyntaxError",
     "evalue": "invalid syntax (build_graph.py, line 5)",
     "output_type": "error",
     "traceback": [
      "Traceback \u001b[0;36m(most recent call last)\u001b[0m:\n",
      "  File \u001b[1;32m\"/Users/jeffliao/anaconda3/lib/python3.7/site-packages/IPython/core/interactiveshell.py\"\u001b[0m, line \u001b[1;32m3326\u001b[0m, in \u001b[1;35mrun_code\u001b[0m\n    exec(code_obj, self.user_global_ns, self.user_ns)\n",
      "\u001b[0;36m  File \u001b[0;32m\"<ipython-input-4-79d40d0423eb>\"\u001b[0;36m, line \u001b[0;32m17\u001b[0;36m, in \u001b[0;35m<module>\u001b[0;36m\u001b[0m\n\u001b[0;31m    import lib.build_graph as bg\u001b[0m\n",
      "\u001b[0;36m  File \u001b[0;32m\"/Users/jeffliao/Desktop/dsc180a/project/notebooks/lib/build_graph.py\"\u001b[0;36m, line \u001b[0;32m5\u001b[0m\n\u001b[0;31m    import .create_database as db\u001b[0m\n\u001b[0m           ^\u001b[0m\n\u001b[0;31mSyntaxError\u001b[0m\u001b[0;31m:\u001b[0m invalid syntax\n"
     ]
    }
   ],
   "source": [
    "import pandas as pd\n",
    "import numpy as np\n",
    "import glob\n",
    "import re\n",
    "import networkx as nx\n",
    "from collections import defaultdict\n",
    "import itertools\n",
    "import matplotlib.pyplot as plt\n",
    "import json\n",
    "import requests\n",
    "import gzip\n",
    "from bs4 import BeautifulSoup\n",
    "import re\n",
    "import os\n",
    "\n",
    "# import lib.collection as c\n",
    "import lib.build_graph as bg\n",
    "import lib.create_database as db"
   ]
  },
  {
   "cell_type": "code",
   "execution_count": 3,
   "metadata": {
    "scrolled": true
   },
   "outputs": [
    {
     "ename": "NameError",
     "evalue": "name 'c' is not defined",
     "output_type": "error",
     "traceback": [
      "\u001b[0;31m---------------------------------------------------------------------------\u001b[0m",
      "\u001b[0;31mNameError\u001b[0m                                 Traceback (most recent call last)",
      "\u001b[0;32m<timed exec>\u001b[0m in \u001b[0;36m<module>\u001b[0;34m\u001b[0m\n",
      "\u001b[0;32m<timed exec>\u001b[0m in \u001b[0;36mget_A_info\u001b[0;34m(smali_src)\u001b[0m\n",
      "\u001b[0;31mNameError\u001b[0m: name 'c' is not defined"
     ]
    }
   ],
   "source": [
    "%%time\n",
    "def get_A_info(smali_src):\n",
    "    apk_api = defaultdict(set)\n",
    "    names = os.listdir(smali_src)\n",
    "    names = [file for file in names if (file[0]!= '.')]\n",
    "    base_path = './data'\n",
    "    for name in names:\n",
    "        apis = list()\n",
    "        path = os.path.join(base_path, name)\n",
    "        smalies = c.get_smali(path)\n",
    "        for s in smalies:\n",
    "            with open(s) as fh:\n",
    "                bg.find_api_calls(fh, apis)\n",
    "        apis = set(apis)\n",
    "        for api in apis:\n",
    "            apk_api[name].add(api)\n",
    "    return apk_api, names, apis\n",
    "\n",
    "\n",
    "\n",
    "    \n",
    "a = get_A_info('./data')"
   ]
  },
  {
   "cell_type": "code",
   "execution_count": null,
   "metadata": {},
   "outputs": [],
   "source": [
    "def buildA_matrix(data_src):\n",
    "    # get a dictionary of the relationships\n",
    "    a = get_A_info(data_src)\n",
    "    connection = a[0]\n",
    "    apks = a[1]\n",
    "    apis = a[2]\n",
    "    \n",
    "    # map the apks and apis to a unique index\n",
    "    apk_index = pd.Series(apks)\n",
    "    api_index = pd.Series(list(apis))\n",
    "\n",
    "    # construct adjacency matrix\n",
    "    adjacency = list()\n",
    "    for i in (apk_index.index):\n",
    "        name = apk_index.iloc[i]\n",
    "        adjacency.append([1  if(api_index.iloc[j] in connection[name]) else 0 for j in range(len(api_index))])\n",
    "    return np.matrix(adjacency)\n"
   ]
  },
  {
   "cell_type": "code",
   "execution_count": null,
   "metadata": {
    "scrolled": true
   },
   "outputs": [],
   "source": [
    "%%time\n",
    "bg.buildA_matrix('./data')"
   ]
  },
  {
   "cell_type": "code",
   "execution_count": null,
   "metadata": {},
   "outputs": [],
   "source": [
    "connection = a[0]\n",
    "apks = a[1]\n",
    "apis = a[2]"
   ]
  },
  {
   "cell_type": "code",
   "execution_count": null,
   "metadata": {
    "scrolled": true
   },
   "outputs": [],
   "source": [
    "apk_index = pd.Series(apks)\n",
    "apk_index"
   ]
  },
  {
   "cell_type": "code",
   "execution_count": null,
   "metadata": {},
   "outputs": [],
   "source": [
    "api_index = pd.Series(list(apis))\n",
    "api_index"
   ]
  },
  {
   "cell_type": "code",
   "execution_count": null,
   "metadata": {},
   "outputs": [],
   "source": [
    "\n",
    "        "
   ]
  },
  {
   "cell_type": "code",
   "execution_count": null,
   "metadata": {},
   "outputs": [],
   "source": []
  },
  {
   "cell_type": "code",
   "execution_count": null,
   "metadata": {},
   "outputs": [],
   "source": [
    "nx.draw_networkx(a)"
   ]
  },
  {
   "cell_type": "code",
   "execution_count": null,
   "metadata": {
    "scrolled": true
   },
   "outputs": [],
   "source": [
    "nx.adjacency_matrix(a).toarray()"
   ]
  },
  {
   "cell_type": "code",
   "execution_count": null,
   "metadata": {},
   "outputs": [],
   "source": [
    "nodes = ['com/google/android/gms/ads/e;->a()I', 'com/google/android/gms/ads/e;->b()I', 'com/google/android/gms/ads/e;->hashCode()I', 'com/google/android/gms/ads/e;->equals(Ljava/lang/Object;)Z', 'com/google/android/gms/ads/e;->toString()Ljava/lang/String;', 'com/google/a/c;-><init>(Lcom/google/android/gms/ads/e;)V', 'java/lang/Object;-><init>()V', 'com/google/android/gms/ads/e;-><init>(II)V', 'com/google/a/c;-><init>(IILjava/lang/String;)V']"
   ]
  },
  {
   "cell_type": "code",
   "execution_count": null,
   "metadata": {},
   "outputs": [],
   "source": []
  }
 ],
 "metadata": {
  "kernelspec": {
   "display_name": "Python 3",
   "language": "python",
   "name": "python3"
  },
  "language_info": {
   "codemirror_mode": {
    "name": "ipython",
    "version": 3
   },
   "file_extension": ".py",
   "mimetype": "text/x-python",
   "name": "python",
   "nbconvert_exporter": "python",
   "pygments_lexer": "ipython3",
   "version": "3.7.5"
  }
 },
 "nbformat": 4,
 "nbformat_minor": 2
}
